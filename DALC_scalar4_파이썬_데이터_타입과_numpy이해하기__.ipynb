{
  "nbformat": 4,
  "nbformat_minor": 0,
  "metadata": {
    "colab": {
      "name": "DALC_scalar4_파이썬_데이터_타입과_numpy이해하기__.ipynb",
      "provenance": [],
      "collapsed_sections": [],
      "include_colab_link": true
    },
    "kernelspec": {
      "name": "python3",
      "display_name": "Python 3"
    },
    "language_info": {
      "name": "python"
    }
  },
  "cells": [
    {
      "cell_type": "markdown",
      "metadata": {
        "id": "view-in-github",
        "colab_type": "text"
      },
      "source": [
        "<a href=\"https://colab.research.google.com/github/HaekyoungRho/DALC_Scala/blob/main/DALC_scalar4_%ED%8C%8C%EC%9D%B4%EC%8D%AC_%EB%8D%B0%EC%9D%B4%ED%84%B0_%ED%83%80%EC%9E%85%EA%B3%BC_numpy%EC%9D%B4%ED%95%B4%ED%95%98%EA%B8%B0__.ipynb\" target=\"_parent\"><img src=\"https://colab.research.google.com/assets/colab-badge.svg\" alt=\"Open In Colab\"/></a>"
      ]
    },
    {
      "cell_type": "markdown",
      "metadata": {
        "id": "giYnypId9JKA"
      },
      "source": [
        "# Numpy 기초"
      ]
    },
    {
      "cell_type": "markdown",
      "metadata": {
        "id": "mMuPNu735nzw"
      },
      "source": [
        "## 넘파이 패키지 불러오기"
      ]
    },
    {
      "cell_type": "code",
      "metadata": {
        "id": "R86NUr6E6IxC"
      },
      "source": [
        "# 넘파이 패키지를 불러오기 np로 줄여쓰기\n",
        "import numpy as np"
      ],
      "execution_count": 19,
      "outputs": []
    },
    {
      "cell_type": "markdown",
      "metadata": {
        "id": "zYd86L6l6LR_"
      },
      "source": [
        "## array 정의 및 생성"
      ]
    },
    {
      "cell_type": "code",
      "metadata": {
        "id": "iYL2w7ZH6OvI",
        "colab": {
          "base_uri": "https://localhost:8080/"
        },
        "outputId": "b915a79b-62b0-48b6-9152-3e1868d8a863"
      },
      "source": [
        "# 넘파이 array를 사용하여 a라는 변수에 1부터 10까지의 숫자 리스트 배열을 생성하기\n",
        "a = np.array([1, 2, 3, 4, 5, 6, 7, 8, 9, 10])\n",
        "print(a)"
      ],
      "execution_count": 20,
      "outputs": [
        {
          "output_type": "stream",
          "text": [
            "[ 1  2  3  4  5  6  7  8  9 10]\n"
          ],
          "name": "stdout"
        }
      ]
    },
    {
      "cell_type": "code",
      "metadata": {
        "id": "WUOwTypoBPRC",
        "colab": {
          "base_uri": "https://localhost:8080/"
        },
        "outputId": "64ff1dff-e303-4e7b-a796-69f36212fef0"
      },
      "source": [
        "#파이썬의 기본 range 함수와 비슷한 넘파이 range 함수를 사용하여 ndarray를 만들 수 있습니다:\n",
        "ndarray =  np.array(range(20))\n",
        "print(ndarray)"
      ],
      "execution_count": 21,
      "outputs": [
        {
          "output_type": "stream",
          "text": [
            "[ 0  1  2  3  4  5  6  7  8  9 10 11 12 13 14 15 16 17 18 19]\n"
          ],
          "name": "stdout"
        }
      ]
    },
    {
      "cell_type": "markdown",
      "metadata": {
        "id": "FOK4pK-I6pDn"
      },
      "source": [
        "## 배열 구성"
      ]
    },
    {
      "cell_type": "code",
      "metadata": {
        "id": "ocsVMvGT6rcJ",
        "colab": {
          "base_uri": "https://localhost:8080/"
        },
        "outputId": "8d5e79b9-ec4e-4162-9804-42ea751a9b66"
      },
      "source": [
        "# full 함수를 사용하여 b라는 변수에 2.71 수로 3 X 4 다차원 배열 만들기\n",
        "b = np.full((3,4), 2.71)\n",
        "print(b)"
      ],
      "execution_count": 22,
      "outputs": [
        {
          "output_type": "stream",
          "text": [
            "[[2.71 2.71 2.71 2.71]\n",
            " [2.71 2.71 2.71 2.71]\n",
            " [2.71 2.71 2.71 2.71]]\n"
          ],
          "name": "stdout"
        }
      ]
    },
    {
      "cell_type": "code",
      "metadata": {
        "id": "ReJJ53HV6_5k",
        "colab": {
          "base_uri": "https://localhost:8080/"
        },
        "outputId": "c35711fb-5642-43a1-c664-bb72cb322de5"
      },
      "source": [
        "# arrange 함수를 사용하여 c라는 변수에 0부터 10까지 짝수만 있는 배열 구성하기\n",
        "c = np.arange(0,11,2)\n",
        "print(c)"
      ],
      "execution_count": 23,
      "outputs": [
        {
          "output_type": "stream",
          "text": [
            "[ 0  2  4  6  8 10]\n"
          ],
          "name": "stdout"
        }
      ]
    },
    {
      "cell_type": "code",
      "metadata": {
        "id": "UiHHzUCn7ak9",
        "colab": {
          "base_uri": "https://localhost:8080/"
        },
        "outputId": "6f727f69-9ec8-4032-d1f5-344bdff56de0"
      },
      "source": [
        "# linespace 함수를 사용하여 d라는 변수에 0부터 1까지 4개 요소 값을 가진 배열 생성하기\n",
        "d = np.linspace(0, 1, 4)\n",
        "print(d)"
      ],
      "execution_count": 24,
      "outputs": [
        {
          "output_type": "stream",
          "text": [
            "[0.         0.33333333 0.66666667 1.        ]\n"
          ],
          "name": "stdout"
        }
      ]
    },
    {
      "cell_type": "code",
      "metadata": {
        "id": "cgqpObYO7m_o",
        "colab": {
          "base_uri": "https://localhost:8080/"
        },
        "outputId": "70a7887d-6891-4dd4-e8e1-2ccbb47a46fa"
      },
      "source": [
        "# randint 함수를 사용하여 0 부터 100까지 수를 2 X 2 배열로 생성하기\n",
        "arr = np.random.randint(1, 100, size=(2, 2))\n",
        "print(arr)"
      ],
      "execution_count": 25,
      "outputs": [
        {
          "output_type": "stream",
          "text": [
            "[[84 31]\n",
            " [75 57]]\n"
          ],
          "name": "stdout"
        }
      ]
    },
    {
      "cell_type": "markdown",
      "metadata": {
        "id": "gmqrBmjV8I_q"
      },
      "source": [
        "## 배열 인덱싱"
      ]
    },
    {
      "cell_type": "code",
      "metadata": {
        "id": "u1YDX-907tCM",
        "colab": {
          "base_uri": "https://localhost:8080/"
        },
        "outputId": "8bb03956-05c1-4507-ae96-7d35771ed881"
      },
      "source": [
        "# a변수에서 인덱스 2 (앞에서 3번째) 와 인덱스 -3 (뒤에서 3번째)에 해당하는 수 가져오기\n",
        "a[2]\n",
        "a[-3]"
      ],
      "execution_count": 27,
      "outputs": [
        {
          "output_type": "execute_result",
          "data": {
            "text/plain": [
              "8"
            ]
          },
          "metadata": {
            "tags": []
          },
          "execution_count": 27
        }
      ]
    },
    {
      "cell_type": "code",
      "metadata": {
        "id": "09OUlcP98IFO",
        "colab": {
          "base_uri": "https://localhost:8080/"
        },
        "outputId": "ef9a5eb0-a41b-4d3d-c3e7-9148f9a655ed"
      },
      "source": [
        "# a 변수에서 인덱스 3부터 9 까지 슬라이싱하기\n",
        "a[3:9]"
      ],
      "execution_count": 29,
      "outputs": [
        {
          "output_type": "execute_result",
          "data": {
            "text/plain": [
              "array([4, 5, 6, 7, 8, 9])"
            ]
          },
          "metadata": {
            "tags": []
          },
          "execution_count": 29
        }
      ]
    },
    {
      "cell_type": "markdown",
      "metadata": {
        "id": "B7ZsYxD-9BDG"
      },
      "source": [
        "## 배열 재구조화"
      ]
    },
    {
      "cell_type": "code",
      "metadata": {
        "id": "OUDkKScoFwID",
        "colab": {
          "base_uri": "https://localhost:8080/"
        },
        "outputId": "01b5ba88-5024-48ae-89c2-24f6e4bad1a7"
      },
      "source": [
        "#차원의 개수 알아보는 함수\n",
        "b.ndim"
      ],
      "execution_count": 31,
      "outputs": [
        {
          "output_type": "execute_result",
          "data": {
            "text/plain": [
              "2"
            ]
          },
          "metadata": {
            "tags": []
          },
          "execution_count": 31
        }
      ]
    },
    {
      "cell_type": "code",
      "metadata": {
        "id": "BAXVPoxoFwUD",
        "colab": {
          "base_uri": "https://localhost:8080/"
        },
        "outputId": "f0c6ce09-59e9-42e8-e95f-bc705ce9e347"
      },
      "source": [
        "#차원의 크기 알아보는 함수\n",
        "a.shape"
      ],
      "execution_count": 35,
      "outputs": [
        {
          "output_type": "execute_result",
          "data": {
            "text/plain": [
              "(10,)"
            ]
          },
          "metadata": {
            "tags": []
          },
          "execution_count": 35
        }
      ]
    },
    {
      "cell_type": "code",
      "metadata": {
        "id": "lNaAPxjqGc8f",
        "colab": {
          "base_uri": "https://localhost:8080/"
        },
        "outputId": "78c539c8-0d03-4009-e0a1-fcf14cadd6ef"
      },
      "source": [
        "#전체 배열크기 알아보는 함수\n",
        "a.size"
      ],
      "execution_count": 36,
      "outputs": [
        {
          "output_type": "execute_result",
          "data": {
            "text/plain": [
              "10"
            ]
          },
          "metadata": {
            "tags": []
          },
          "execution_count": 36
        }
      ]
    },
    {
      "cell_type": "code",
      "metadata": {
        "id": "LpmpluGdGG8T",
        "colab": {
          "base_uri": "https://localhost:8080/"
        },
        "outputId": "2493b611-9dd1-44ad-e6ba-3c706875adec"
      },
      "source": [
        "#0부터10까지 정수를 가진 x변수에서 4~7까지의 요소를 가진 하위배열생성\n",
        "x = np.arange(0,11)\n",
        "x1 = x[4:8]\n",
        "x1"
      ],
      "execution_count": 41,
      "outputs": [
        {
          "output_type": "execute_result",
          "data": {
            "text/plain": [
              "array([4, 5, 6, 7])"
            ]
          },
          "metadata": {
            "tags": []
          },
          "execution_count": 41
        }
      ]
    },
    {
      "cell_type": "code",
      "metadata": {
        "id": "vosKsX6-GHD6",
        "colab": {
          "base_uri": "https://localhost:8080/"
        },
        "outputId": "daaf5726-f2f2-49c1-fd19-98cce4baa980"
      },
      "source": [
        "#0부터10까지 정수를 가진 x변수에서 첫번째 다섯 요소를 가진 하위 배열 생성\n",
        "x[:5]"
      ],
      "execution_count": 42,
      "outputs": [
        {
          "output_type": "execute_result",
          "data": {
            "text/plain": [
              "array([0, 1, 2, 3, 4])"
            ]
          },
          "metadata": {
            "tags": []
          },
          "execution_count": 42
        }
      ]
    },
    {
      "cell_type": "code",
      "metadata": {
        "id": "mEW2HOOSHBar",
        "colab": {
          "base_uri": "https://localhost:8080/"
        },
        "outputId": "a5278ba5-3254-4903-8f98-0685c65e7781"
      },
      "source": [
        "#0부터10까지 정수를 가진 x변수에서 인덱스 5 이후의 요소를 가진 하위 배열을 생성\n",
        "x[5:]"
      ],
      "execution_count": 43,
      "outputs": [
        {
          "output_type": "execute_result",
          "data": {
            "text/plain": [
              "array([ 5,  6,  7,  8,  9, 10])"
            ]
          },
          "metadata": {
            "tags": []
          },
          "execution_count": 43
        }
      ]
    },
    {
      "cell_type": "code",
      "metadata": {
        "id": "TD0eKXKOHFiq",
        "colab": {
          "base_uri": "https://localhost:8080/"
        },
        "outputId": "b5a32736-7e9e-4bf2-f0b2-afe1eb399980"
      },
      "source": [
        "# 인덱스 0,1행과 인덱스 0,1,2열 즉 2행3열인 다차원 하위 배열 생성(콤마이용하기)\n",
        "s = np.array([[4, 5, 6], [7, 8, 9]])\n",
        "s"
      ],
      "execution_count": 48,
      "outputs": [
        {
          "output_type": "execute_result",
          "data": {
            "text/plain": [
              "array([[4, 5, 6],\n",
              "       [7, 8, 9]])"
            ]
          },
          "metadata": {
            "tags": []
          },
          "execution_count": 48
        }
      ]
    },
    {
      "cell_type": "code",
      "metadata": {
        "id": "uqvnK_MqHSjX",
        "colab": {
          "base_uri": "https://localhost:8080/"
        },
        "outputId": "14145fad-db78-47bb-9cf1-ef5580da6e04"
      },
      "source": [
        "#1부터 10까지 배열을 3행3열로 재배열하기(reshape사용)\n",
        "p =  np.arange(0,9)\n",
        "p1 = p.reshape((3,3))\n",
        "p1"
      ],
      "execution_count": 56,
      "outputs": [
        {
          "output_type": "execute_result",
          "data": {
            "text/plain": [
              "array([[0, 1, 2],\n",
              "       [3, 4, 5],\n",
              "       [6, 7, 8]])"
            ]
          },
          "metadata": {
            "tags": []
          },
          "execution_count": 56
        }
      ]
    },
    {
      "cell_type": "markdown",
      "metadata": {
        "id": "Fe5b8TCo9CUi"
      },
      "source": [
        "## 배열 결합"
      ]
    },
    {
      "cell_type": "code",
      "metadata": {
        "id": "nkYF1XetHZFA",
        "colab": {
          "base_uri": "https://localhost:8080/"
        },
        "outputId": "14bda607-55de-4bc3-fd58-0b96fb39e3a3"
      },
      "source": [
        "#두개의 배열 결합하기\n",
        "a = np.array([[1, 2], [3, 4]])\n",
        "b = np.array([[7, 8], [9, 10], [11, 12]])\n",
        "\n",
        "print(np.concatenate((a, b), axis=0))"
      ],
      "execution_count": 57,
      "outputs": [
        {
          "output_type": "stream",
          "text": [
            "[[ 1  2]\n",
            " [ 3  4]\n",
            " [ 7  8]\n",
            " [ 9 10]\n",
            " [11 12]]\n"
          ],
          "name": "stdout"
        }
      ]
    },
    {
      "cell_type": "code",
      "metadata": {
        "id": "NObVaN04Hbt8",
        "colab": {
          "base_uri": "https://localhost:8080/"
        },
        "outputId": "0b7a8499-1450-4252-bc15-9d0db42ac679"
      },
      "source": [
        "#수직으로 두개의 배열 결합하기\n",
        "c = np.vstack((a,b))\n",
        "c"
      ],
      "execution_count": 59,
      "outputs": [
        {
          "output_type": "execute_result",
          "data": {
            "text/plain": [
              "array([[ 1,  2],\n",
              "       [ 3,  4],\n",
              "       [ 7,  8],\n",
              "       [ 9, 10],\n",
              "       [11, 12]])"
            ]
          },
          "metadata": {
            "tags": []
          },
          "execution_count": 59
        }
      ]
    },
    {
      "cell_type": "code",
      "metadata": {
        "id": "NFQ0_cEjHkCy",
        "colab": {
          "base_uri": "https://localhost:8080/"
        },
        "outputId": "93afceb3-fdd3-469f-c9aa-add8abcf1d05"
      },
      "source": [
        "#수평으로 두개의 배열 결합하기\n",
        "a = np.array([1, 2, 3])\n",
        "b = np.array([4, 5, 6])\n",
        "d = np.hstack((a,b))\n",
        "d"
      ],
      "execution_count": 62,
      "outputs": [
        {
          "output_type": "execute_result",
          "data": {
            "text/plain": [
              "array([1, 2, 3, 4, 5, 6])"
            ]
          },
          "metadata": {
            "tags": []
          },
          "execution_count": 62
        }
      ]
    },
    {
      "cell_type": "markdown",
      "metadata": {
        "id": "vNpmxjef9EiC"
      },
      "source": [
        "## 배열 분할"
      ]
    },
    {
      "cell_type": "code",
      "metadata": {
        "id": "XBu15lZ7Hxzu",
        "colab": {
          "base_uri": "https://localhost:8080/"
        },
        "outputId": "1d869218-8de8-4d01-c309-71519f727031"
      },
      "source": [
        "#7개의 숫자를 가진 리스트 x를 3개의 변수 x1,x2,x3로 분할하기\n",
        "x1,x2,x3 = np.split(x, (3, 6))\n",
        "x1,x2,x3"
      ],
      "execution_count": 67,
      "outputs": [
        {
          "output_type": "execute_result",
          "data": {
            "text/plain": [
              "(array([0, 1, 2]), array([3, 4, 5]), array([ 6,  7,  8,  9, 10]))"
            ]
          },
          "metadata": {
            "tags": []
          },
          "execution_count": 67
        }
      ]
    },
    {
      "cell_type": "code",
      "metadata": {
        "id": "XdklCHyCHx75",
        "colab": {
          "base_uri": "https://localhost:8080/"
        },
        "outputId": "cd1644a0-307f-4d8c-8267-735d9120eecb"
      },
      "source": [
        "#4행4열 차원을 배열이 상하 2개로 나누게 분할\n",
        "q = np.arange(16)\n",
        "q = q.reshape((4,4))\n",
        "split1, split2=np.split(q,2,axis=0)\n",
        "print(split1)\n",
        "print(split2)"
      ],
      "execution_count": 74,
      "outputs": [
        {
          "output_type": "stream",
          "text": [
            "[[0 1 2 3]\n",
            " [4 5 6 7]]\n",
            "[[ 8  9 10 11]\n",
            " [12 13 14 15]]\n"
          ],
          "name": "stdout"
        }
      ]
    },
    {
      "cell_type": "markdown",
      "metadata": {
        "id": "dDE6Ap4n9S28"
      },
      "source": [
        "# Numpy 심화"
      ]
    },
    {
      "cell_type": "markdown",
      "metadata": {
        "id": "uH4cKovY9Whm"
      },
      "source": [
        "## 유니버셜함수"
      ]
    },
    {
      "cell_type": "code",
      "metadata": {
        "id": "4GAlLhUiAz13",
        "colab": {
          "base_uri": "https://localhost:8080/"
        },
        "outputId": "6c80f972-f8f2-496c-a68f-a34f7f454a9a"
      },
      "source": [
        "# zeros 함수는 0으로 채워진 배열을 만듭니다:\n",
        "np.zeros(5)"
      ],
      "execution_count": 75,
      "outputs": [
        {
          "output_type": "execute_result",
          "data": {
            "text/plain": [
              "array([0., 0., 0., 0., 0.])"
            ]
          },
          "metadata": {
            "tags": []
          },
          "execution_count": 75
        }
      ]
    },
    {
      "cell_type": "code",
      "metadata": {
        "id": "3vxe2YivA18-",
        "colab": {
          "base_uri": "https://localhost:8080/"
        },
        "outputId": "765cfd97-dd91-4cd1-aaee-17b68d6b20f0"
      },
      "source": [
        "#2D 배열(즉, 행렬)을 만들려면 원하는 행과 열의 크기를 튜플로 전달합니다. 예를 들어 다음은 3 \\times 4 크기의 행렬입니다:\n",
        "\n",
        "np.zeros((3,4))"
      ],
      "execution_count": 76,
      "outputs": [
        {
          "output_type": "execute_result",
          "data": {
            "text/plain": [
              "array([[0., 0., 0., 0.],\n",
              "       [0., 0., 0., 0.],\n",
              "       [0., 0., 0., 0.]])"
            ]
          },
          "metadata": {
            "tags": []
          },
          "execution_count": 76
        }
      ]
    },
    {
      "cell_type": "code",
      "metadata": {
        "id": "vUJHEN_FA6By",
        "colab": {
          "base_uri": "https://localhost:8080/"
        },
        "outputId": "1c8ed438-1346-4c89-b92b-d96ff3d5c443"
      },
      "source": [
        "a = np.zeros((3,4))\n",
        "a"
      ],
      "execution_count": 77,
      "outputs": [
        {
          "output_type": "execute_result",
          "data": {
            "text/plain": [
              "array([[0., 0., 0., 0.],\n",
              "       [0., 0., 0., 0.],\n",
              "       [0., 0., 0., 0.]])"
            ]
          },
          "metadata": {
            "tags": []
          },
          "execution_count": 77
        }
      ]
    },
    {
      "cell_type": "code",
      "metadata": {
        "id": "mzrutOYyA8CS",
        "colab": {
          "base_uri": "https://localhost:8080/"
        },
        "outputId": "9b6db7ef-7a32-4a80-d6a7-4f8826ebbeeb"
      },
      "source": [
        "a.shape"
      ],
      "execution_count": 79,
      "outputs": [
        {
          "output_type": "execute_result",
          "data": {
            "text/plain": [
              "(3, 4)"
            ]
          },
          "metadata": {
            "tags": []
          },
          "execution_count": 79
        }
      ]
    },
    {
      "cell_type": "code",
      "metadata": {
        "id": "Knsc4SCPA9FI",
        "colab": {
          "base_uri": "https://localhost:8080/"
        },
        "outputId": "763d89a2-7241-4567-fe49-7c0170b2b6f5"
      },
      "source": [
        "a.ndim # len(a.shape)와 같습니다"
      ],
      "execution_count": 78,
      "outputs": [
        {
          "output_type": "execute_result",
          "data": {
            "text/plain": [
              "2"
            ]
          },
          "metadata": {
            "tags": []
          },
          "execution_count": 78
        }
      ]
    },
    {
      "cell_type": "code",
      "metadata": {
        "id": "sq0vJhlgA-M3",
        "colab": {
          "base_uri": "https://localhost:8080/"
        },
        "outputId": "643bb346-f865-439a-caad-c50fa1ea174c"
      },
      "source": [
        "a.size"
      ],
      "execution_count": 80,
      "outputs": [
        {
          "output_type": "execute_result",
          "data": {
            "text/plain": [
              "12"
            ]
          },
          "metadata": {
            "tags": []
          },
          "execution_count": 80
        }
      ]
    },
    {
      "cell_type": "code",
      "metadata": {
        "id": "g_i6UPINA_8o",
        "colab": {
          "base_uri": "https://localhost:8080/"
        },
        "outputId": "c4874588-a971-4a4d-e221-681761e605da"
      },
      "source": [
        "# 초기화되지 않은 2 \\times 3 크기의 배열을 만듭니다(배열의 내용은 예측이 불가능하며 메모리 상황에 따라 달라집니다):\n",
        "\n",
        "np.empty((2,3))"
      ],
      "execution_count": 81,
      "outputs": [
        {
          "output_type": "execute_result",
          "data": {
            "text/plain": [
              "array([[4.9e-324, 9.9e-324, 1.5e-323],\n",
              "       [2.0e-323, 2.5e-323, 3.0e-323]])"
            ]
          },
          "metadata": {
            "tags": []
          },
          "execution_count": 81
        }
      ]
    },
    {
      "cell_type": "code",
      "metadata": {
        "id": "PTCzRhCiBAyo",
        "colab": {
          "base_uri": "https://localhost:8080/"
        },
        "outputId": "bc48e909-a374-4c21-df9f-eacc579d79c2"
      },
      "source": [
        "#array 함수는 파이썬 리스트를 사용하여 ndarray를 초기화합니다:\n",
        "\n",
        "np.array([[1,2,3,4], [10, 20, 30, 40]])"
      ],
      "execution_count": 82,
      "outputs": [
        {
          "output_type": "execute_result",
          "data": {
            "text/plain": [
              "array([[ 1,  2,  3,  4],\n",
              "       [10, 20, 30, 40]])"
            ]
          },
          "metadata": {
            "tags": []
          },
          "execution_count": 82
        }
      ]
    },
    {
      "cell_type": "code",
      "metadata": {
        "id": "dAU3-6CV9u3R",
        "colab": {
          "base_uri": "https://localhost:8080/"
        },
        "outputId": "6439d853-0e74-4918-ad2d-45cce4655800"
      },
      "source": [
        "# x = np.array([-10, -5, 0, 3, 7])\n",
        "# x에 있는 배열을 모두 양의 정수로 반환하기\n",
        "x = np.absolute([-10, -5, 0, 3, 7])\n",
        "x"
      ],
      "execution_count": 85,
      "outputs": [
        {
          "output_type": "execute_result",
          "data": {
            "text/plain": [
              "array([10,  5,  0,  3,  7])"
            ]
          },
          "metadata": {
            "tags": []
          },
          "execution_count": 85
        }
      ]
    },
    {
      "cell_type": "code",
      "metadata": {
        "id": "xrZfT0dH-J4X",
        "colab": {
          "base_uri": "https://localhost:8080/"
        },
        "outputId": "560dfac5-aec8-4969-a6a9-67e7913f2ab5"
      },
      "source": [
        "# 모두 양의 정수가 된 배열 x를 자연로그 배열로 반환하기\n",
        "x10 = np.log(x)\n",
        "x10"
      ],
      "execution_count": 86,
      "outputs": [
        {
          "output_type": "stream",
          "text": [
            "/usr/local/lib/python3.7/dist-packages/ipykernel_launcher.py:2: RuntimeWarning: divide by zero encountered in log\n",
            "  \n"
          ],
          "name": "stderr"
        },
        {
          "output_type": "execute_result",
          "data": {
            "text/plain": [
              "array([2.30258509, 1.60943791,       -inf, 1.09861229, 1.94591015])"
            ]
          },
          "metadata": {
            "tags": []
          },
          "execution_count": 86
        }
      ]
    },
    {
      "cell_type": "markdown",
      "metadata": {
        "id": "wQ14Cr7W9ZNP"
      },
      "source": [
        "## 집계함수"
      ]
    },
    {
      "cell_type": "code",
      "metadata": {
        "id": "VQgkBEIDC5er",
        "colab": {
          "base_uri": "https://localhost:8080/"
        },
        "outputId": "1e08e148-b6df-4945-efce-2f21284ca0f2"
      },
      "source": [
        "x=np.array([-2,-1,0,1,2])\n",
        "\"절댓값을 씌우려면?\"\n",
        "힌트: \"np.absolute(x)\"\n",
        "x = np.absolute(x)\n",
        "x"
      ],
      "execution_count": 89,
      "outputs": [
        {
          "output_type": "execute_result",
          "data": {
            "text/plain": [
              "array([2, 1, 0, 1, 2])"
            ]
          },
          "metadata": {
            "tags": []
          },
          "execution_count": 89
        }
      ]
    },
    {
      "cell_type": "code",
      "metadata": {
        "id": "yGy7cRtmC6AA",
        "colab": {
          "base_uri": "https://localhost:8080/"
        },
        "outputId": "0e7415b5-cd12-41e8-e033-56187338c7e9"
      },
      "source": [
        "#삼각함수\n",
        "theta = np.linspace(0,np.pi,3)\n",
        "print(\"theta=\" , theta)\n",
        "a = np.cos(np.array([0, np.pi/2, np.pi]))\n",
        "print(\" 코사인 함수 =\",a)\n",
        "a = np.tan(np.array([-np.pi, np.pi/2, np.pi]))\n",
        "print(\"탐젠트 함수= \", a) "
      ],
      "execution_count": 91,
      "outputs": [
        {
          "output_type": "stream",
          "text": [
            "theta= [0.         1.57079633 3.14159265]\n",
            " 코사인 함수 = [ 1.000000e+00  6.123234e-17 -1.000000e+00]\n",
            "탐젠트 함수=  [ 1.22464680e-16  1.63312394e+16 -1.22464680e-16]\n"
          ],
          "name": "stdout"
        }
      ]
    },
    {
      "cell_type": "code",
      "metadata": {
        "id": "XCvqtkfdC6DQ",
        "colab": {
          "base_uri": "https://localhost:8080/"
        },
        "outputId": "12997954-32a1-4dbd-d6a2-f2ce3fc0e1b6"
      },
      "source": [
        "#역삼각함수\n",
        "a = np.arcsin(1)\n",
        "print(\"역 사인함수=\",a)\n",
        "a = np.arccos(1)  \n",
        "print(\"역 코사인함수=\",a)\n",
        "a = np.arctan(0) \n",
        "print(\"역 탄젠트함수=\",a)"
      ],
      "execution_count": 92,
      "outputs": [
        {
          "output_type": "stream",
          "text": [
            "역 사인함수= 1.5707963267948966\n",
            "역 코사인함수= 0.0\n",
            "역 탄젠트함수= 0.0\n"
          ],
          "name": "stdout"
        }
      ]
    },
    {
      "cell_type": "code",
      "metadata": {
        "id": "Bz4GuB0sC6IE",
        "colab": {
          "base_uri": "https://localhost:8080/"
        },
        "outputId": "85e44360-618d-4245-839a-68e85d387f0d"
      },
      "source": [
        "#로그함수\n",
        "x=[1,2,4,10]\n",
        "a = np.e\n",
        "print(\"자연로그=\",a)\n",
        "print(\"밑이2인 로그함수=\",np.log2(x))\n",
        "print(\"밑이 10인 로그함수=\",np.log10(x))"
      ],
      "execution_count": 104,
      "outputs": [
        {
          "output_type": "stream",
          "text": [
            "자연로그= 2.718281828459045\n",
            "밑이2인 로그함수= [0.         1.         2.         3.32192809]\n",
            "밑이 10인 로그함수= [0.         0.30103    0.60205999 1.        ]\n"
          ],
          "name": "stdout"
        }
      ]
    },
    {
      "cell_type": "code",
      "metadata": {
        "id": "mYPwcUsvC6Ls",
        "colab": {
          "base_uri": "https://localhost:8080/"
        },
        "outputId": "163da46a-7ab2-4472-dc9d-51642a0c0ca7"
      },
      "source": [
        "#지수함수\n",
        "x=[1,2,3]\n",
        "\n",
        "print(\"e^x=\",np.exp(x))\n",
        "print(\"2^x\",np.exp2(x))\n",
        "print(\"3^x=\",np.power(3, x))"
      ],
      "execution_count": 106,
      "outputs": [
        {
          "output_type": "stream",
          "text": [
            "e^x= [ 2.71828183  7.3890561  20.08553692]\n",
            "2^x [2. 4. 8.]\n",
            "3^x= [ 3  9 27]\n"
          ],
          "name": "stdout"
        }
      ]
    },
    {
      "cell_type": "code",
      "metadata": {
        "id": "TIhmzJunC6PJ",
        "colab": {
          "base_uri": "https://localhost:8080/"
        },
        "outputId": "c7e14b56-674f-4246-ecc7-87b0507e5b83"
      },
      "source": [
        "#out 인자 \n",
        "x=np.arange(5)\n",
        "y=np.empty(5)\n",
        "np.power(x,10,out=y)\n",
        "print(y)"
      ],
      "execution_count": 107,
      "outputs": [
        {
          "output_type": "stream",
          "text": [
            "[0.000000e+00 1.000000e+00 1.024000e+03 5.904900e+04 1.048576e+06]\n"
          ],
          "name": "stdout"
        }
      ]
    },
    {
      "cell_type": "code",
      "metadata": {
        "id": "7Xjkz_DiC6SQ",
        "colab": {
          "base_uri": "https://localhost:8080/"
        },
        "outputId": "0aa007fc-7568-4461-da87-19ea5c1b3d6e"
      },
      "source": [
        "#out 인자를 활용하여 배열 슬라이싱\n",
        "x=np.arange(5)\n",
        "y=np.empty(10)\n",
        "np.power(2,x,out=y[::2])\n",
        "print(y)"
      ],
      "execution_count": 110,
      "outputs": [
        {
          "output_type": "stream",
          "text": [
            "[1.00000000e+000 6.79038653e-313 2.00000000e+000 6.79038653e-313\n",
            " 4.00000000e+000 6.79038653e-313 8.00000000e+000 2.14321575e-312\n",
            " 1.60000000e+001 0.00000000e+000]\n"
          ],
          "name": "stdout"
        }
      ]
    },
    {
      "cell_type": "code",
      "metadata": {
        "id": "iE_xW8KzDBof",
        "colab": {
          "base_uri": "https://localhost:8080/"
        },
        "outputId": "f8354057-1c6f-46d3-b9f3-5ddec3fe4c6a"
      },
      "source": [
        "#reduce 함수\n",
        "x=np.arange(1,5)\n",
        "np.add.reduce(x)"
      ],
      "execution_count": 111,
      "outputs": [
        {
          "output_type": "execute_result",
          "data": {
            "text/plain": [
              "10"
            ]
          },
          "metadata": {
            "tags": []
          },
          "execution_count": 111
        }
      ]
    },
    {
      "cell_type": "code",
      "metadata": {
        "id": "QfZWyUi1DCJd",
        "colab": {
          "base_uri": "https://localhost:8080/"
        },
        "outputId": "f2447855-696c-4b75-c539-edc9d3960d40"
      },
      "source": [
        "#sum,max,min함수\n",
        "s=np.random.random(1000)\n",
        "print(\"s의최솟값=\",np.min(s))\n",
        "print(\"s의최댓값=\",np.max(s))\n"
      ],
      "execution_count": 112,
      "outputs": [
        {
          "output_type": "stream",
          "text": [
            "s의최솟값= 0.0005317806798643687\n",
            "s의최댓값= 0.9993467443924876\n"
          ],
          "name": "stdout"
        }
      ]
    },
    {
      "cell_type": "code",
      "metadata": {
        "id": "4PzwblvNDCMy"
      },
      "source": [
        "#axis 인자\n",
        "\"axis=0: 열기준 집계연산\"\n",
        "\"axis=1: 행기준 집계연산\"\n",
        "\"axis=none: 배열 내 모든 요소의 집계연산axis 인자\""
      ],
      "execution_count": null,
      "outputs": []
    },
    {
      "cell_type": "code",
      "metadata": {
        "id": "K51SaedIDCSr",
        "colab": {
          "base_uri": "https://localhost:8080/"
        },
        "outputId": "ddcb89b5-ff07-4bf5-8bd4-803882a1568a"
      },
      "source": [
        "m= np.random.random((3,4))\n",
        "print(m)"
      ],
      "execution_count": 115,
      "outputs": [
        {
          "output_type": "stream",
          "text": [
            "[[0.88628205 0.50126244 0.96976144 0.55308634]\n",
            " [0.4698084  0.60726696 0.40759905 0.3208719 ]\n",
            " [0.98620103 0.15413201 0.02668444 0.9115303 ]]\n"
          ],
          "name": "stdout"
        }
      ]
    },
    {
      "cell_type": "markdown",
      "metadata": {
        "id": "l7VYaxRL9agA"
      },
      "source": [
        "## 브로드캐스팅 연산"
      ]
    },
    {
      "cell_type": "code",
      "metadata": {
        "id": "xHRGT0S7DTYe",
        "colab": {
          "base_uri": "https://localhost:8080/"
        },
        "outputId": "c6b99a44-91b8-4d05-93d1-4efed857a2f1"
      },
      "source": [
        "# 크기가 같은 어레이의 연산을 하기\n",
        "X= np.array([0,1,2]) \n",
        "M = np.array([3,4,5]) \n",
        "print(X+M)"
      ],
      "execution_count": 120,
      "outputs": [
        {
          "output_type": "stream",
          "text": [
            "[3 5 7]\n"
          ],
          "name": "stdout"
        }
      ]
    },
    {
      "cell_type": "code",
      "metadata": {
        "id": "NVI4DOqKDTgp",
        "colab": {
          "base_uri": "https://localhost:8080/"
        },
        "outputId": "34e432e3-cbbb-41be-ce68-801fb5360a3f"
      },
      "source": [
        "# 배열의 크기를 늘려서 연산하기\n",
        "X = np.array([0,1,2]) \n",
        "M = np.ones((3,3))\n",
        "print(X + M)"
      ],
      "execution_count": 130,
      "outputs": [
        {
          "output_type": "stream",
          "text": [
            "[[1. 2. 3.]\n",
            " [1. 2. 3.]\n",
            " [1. 2. 3.]]\n"
          ],
          "name": "stdout"
        }
      ]
    },
    {
      "cell_type": "markdown",
      "metadata": {
        "id": "iwnH05_R9cFv"
      },
      "source": [
        "## 비교연산자"
      ]
    },
    {
      "cell_type": "code",
      "metadata": {
        "id": "wlaHQtWIDTjx",
        "colab": {
          "base_uri": "https://localhost:8080/"
        },
        "outputId": "a52055c5-dfa4-4a9a-a907-a7799f6818bd"
      },
      "source": [
        "# any 함수를 이용하여 하나라도 만족하면 true를 산출하는 코드만들기\n",
        "arr = np.array([[1, 2, 3], [4, 5, 6], [7, 8, 9]])\n",
        "np.any(arr > 5)"
      ],
      "execution_count": 131,
      "outputs": [
        {
          "output_type": "execute_result",
          "data": {
            "text/plain": [
              "True"
            ]
          },
          "metadata": {
            "tags": []
          },
          "execution_count": 131
        }
      ]
    },
    {
      "cell_type": "code",
      "metadata": {
        "id": "D-OgFcn5DSjM",
        "colab": {
          "base_uri": "https://localhost:8080/"
        },
        "outputId": "c210787c-4ede-4b8b-f40b-a1d447c27e89"
      },
      "source": [
        "# all함수를 이용하여 true산출 코드 만들기\n",
        "np.all(arr < 10)"
      ],
      "execution_count": 133,
      "outputs": [
        {
          "output_type": "execute_result",
          "data": {
            "text/plain": [
              "True"
            ]
          },
          "metadata": {
            "tags": []
          },
          "execution_count": 133
        }
      ]
    },
    {
      "cell_type": "code",
      "metadata": {
        "id": "JzbeCfBnDSqm",
        "colab": {
          "base_uri": "https://localhost:8080/"
        },
        "outputId": "b7ed10da-a833-4e0e-c8de-89696f7971cc"
      },
      "source": [
        "# 1~5사이의 구간에서 5개 정수를 무작위로 발생시켜 1차원배열 2개변수를 생성하고 이에대한 불리언 값 결과내기\n",
        "a = np.random.randint(1, 6, size=5)\n",
        "b = np.random.randint(1, 6, size=5)\n",
        "print(a, b)\n",
        "a > b"
      ],
      "execution_count": 146,
      "outputs": [
        {
          "output_type": "stream",
          "text": [
            "[5 1 4 2 5] [5 4 4 2 1]\n"
          ],
          "name": "stdout"
        },
        {
          "output_type": "execute_result",
          "data": {
            "text/plain": [
              "array([False, False, False, False,  True])"
            ]
          },
          "metadata": {
            "tags": []
          },
          "execution_count": 146
        }
      ]
    },
    {
      "cell_type": "markdown",
      "metadata": {
        "id": "cvNr6-5O9fLA"
      },
      "source": [
        "## 팬시 인덱싱"
      ]
    },
    {
      "cell_type": "code",
      "metadata": {
        "id": "t7MWDGDEDSuE",
        "colab": {
          "base_uri": "https://localhost:8080/"
        },
        "outputId": "1ccc81d8-89f8-4fba-ba87-ef3f3010e11d"
      },
      "source": [
        "#배열을 생성하여 인덱싱하기\n",
        "a = np.arange(10)\n",
        "a"
      ],
      "execution_count": 162,
      "outputs": [
        {
          "output_type": "execute_result",
          "data": {
            "text/plain": [
              "array([0, 1, 2, 3, 4, 5, 6, 7, 8, 9])"
            ]
          },
          "metadata": {
            "tags": []
          },
          "execution_count": 162
        }
      ]
    },
    {
      "cell_type": "code",
      "metadata": {
        "id": "ipMA6b3uDSxP",
        "colab": {
          "base_uri": "https://localhost:8080/"
        },
        "outputId": "f8714b9f-afba-478f-9f80-1bc2545c2097"
      },
      "source": [
        "#인덱스 값을 가진 2차원 배열(예를 들어 row=np.array([0,1,2]))을 이용하여 인덱싱\n",
        "b = np.array([3,6,9])\n",
        "b"
      ],
      "execution_count": 163,
      "outputs": [
        {
          "output_type": "execute_result",
          "data": {
            "text/plain": [
              "array([3, 6, 9])"
            ]
          },
          "metadata": {
            "tags": []
          },
          "execution_count": 163
        }
      ]
    },
    {
      "cell_type": "markdown",
      "metadata": {
        "id": "fIFQzEK89gjy"
      },
      "source": [
        "## 정렬 "
      ]
    },
    {
      "cell_type": "code",
      "metadata": {
        "id": "8-vycEUGE0G2",
        "colab": {
          "base_uri": "https://localhost:8080/"
        },
        "outputId": "44872223-ef69-4771-aaa1-41c41c825cd0"
      },
      "source": [
        "#np.sort함수를 이용하여 복사하기\n",
        "a = np.random.randint(1, 6, size=5)\n",
        "b = np.random.randint(1, 6, size=5)\n",
        "\n",
        "a_sorted = np.sort(a)\n",
        "a,a_sorted"
      ],
      "execution_count": 165,
      "outputs": [
        {
          "output_type": "execute_result",
          "data": {
            "text/plain": [
              "(array([3, 1, 5, 5, 4]), array([1, 3, 4, 5, 5]))"
            ]
          },
          "metadata": {
            "tags": []
          },
          "execution_count": 165
        }
      ]
    },
    {
      "cell_type": "code",
      "metadata": {
        "id": "WzF6Iw5HE76_",
        "colab": {
          "base_uri": "https://localhost:8080/"
        },
        "outputId": "81b4e7c7-1ce6-4134-eea2-2000ae7e27c0"
      },
      "source": [
        "#변수.sort함수를 이용하여 정렬하기\n",
        "a.sort()\n",
        "a"
      ],
      "execution_count": 167,
      "outputs": [
        {
          "output_type": "execute_result",
          "data": {
            "text/plain": [
              "array([1, 3, 4, 5, 5])"
            ]
          },
          "metadata": {
            "tags": []
          },
          "execution_count": 167
        }
      ]
    },
    {
      "cell_type": "code",
      "metadata": {
        "id": "b1regsEqE7-X",
        "colab": {
          "base_uri": "https://localhost:8080/"
        },
        "outputId": "2a515a13-0896-42e4-fa5b-43afba7ce2c2"
      },
      "source": [
        "#np.arsort함수 이용하여 정렬 요소의 인덱스를 반환하기\n",
        "s = a.argsort()\n",
        "s"
      ],
      "execution_count": 169,
      "outputs": [
        {
          "output_type": "execute_result",
          "data": {
            "text/plain": [
              "array([1, 0, 3, 2])"
            ]
          },
          "metadata": {
            "tags": []
          },
          "execution_count": 169
        }
      ]
    },
    {
      "cell_type": "code",
      "metadata": {
        "id": "glpi3sAWE8Bw",
        "colab": {
          "base_uri": "https://localhost:8080/"
        },
        "outputId": "fc85ff62-5bce-4169-8fe5-a5cb9364385d"
      },
      "source": [
        "#x_reverse를 이용하여 내림차순\n",
        "x = np.array([4, 2, 6, 5, 1, 3, 0])\n",
        "x_reverse = np.sort(x)[::-1]\n",
        "x, x_reverse"
      ],
      "execution_count": 170,
      "outputs": [
        {
          "output_type": "execute_result",
          "data": {
            "text/plain": [
              "(array([4, 2, 6, 5, 1, 3, 0]), array([6, 5, 4, 3, 2, 1, 0]))"
            ]
          },
          "metadata": {
            "tags": []
          },
          "execution_count": 170
        }
      ]
    },
    {
      "cell_type": "code",
      "metadata": {
        "id": "HBsSfJFyFRai",
        "colab": {
          "base_uri": "https://localhost:8080/"
        },
        "outputId": "29aac58e-fbdb-410c-8ae2-5b1dfe7ce62c"
      },
      "source": [
        "#axis를 이용하여 각 열을 기준으로 정렬하기\n",
        "a = np.array([[48, 52, 56, 60],[64, 68, 72, 76]])\n",
        "np.sort(a, axis = 0)"
      ],
      "execution_count": 175,
      "outputs": [
        {
          "output_type": "execute_result",
          "data": {
            "text/plain": [
              "array([[48, 52, 56, 60],\n",
              "       [64, 68, 72, 76]])"
            ]
          },
          "metadata": {
            "tags": []
          },
          "execution_count": 175
        }
      ]
    },
    {
      "cell_type": "code",
      "metadata": {
        "id": "yav7laqrFWjP",
        "colab": {
          "base_uri": "https://localhost:8080/"
        },
        "outputId": "b4764291-3767-474d-be55-459dc34cf3a9"
      },
      "source": [
        "#axis를 이용하여 각 행을 기준으로 정렬하기#axis를 이용하여 각 행을 기준으로 정렬하기\n",
        "a = np.array([[48, 52, 56, 60],[64, 68, 72, 76]])\n",
        "np.sort(a, axis = 1)"
      ],
      "execution_count": 178,
      "outputs": [
        {
          "output_type": "execute_result",
          "data": {
            "text/plain": [
              "array([[48, 52, 56, 60],\n",
              "       [64, 68, 72, 76]])"
            ]
          },
          "metadata": {
            "tags": []
          },
          "execution_count": 178
        }
      ]
    }
  ]
}