{
  "nbformat": 4,
  "nbformat_minor": 0,
  "metadata": {
    "colab": {
      "name": "Colab_실습_자료.ipynb",
      "provenance": [],
      "collapsed_sections": [],
      "include_colab_link": true
    },
    "kernelspec": {
      "name": "python3",
      "display_name": "Python 3"
    }
  },
  "cells": [
    {
      "cell_type": "markdown",
      "metadata": {
        "id": "view-in-github",
        "colab_type": "text"
      },
      "source": [
        "<a href=\"https://colab.research.google.com/github/HaekyoungRho/DALC_Scala/blob/main/Colab_%EC%8B%A4%EC%8A%B5_%EC%9E%90%EB%A3%8C.ipynb\" target=\"_parent\"><img src=\"https://colab.research.google.com/assets/colab-badge.svg\" alt=\"Open In Colab\"/></a>"
      ]
    },
    {
      "cell_type": "markdown",
      "metadata": {
        "id": "EWndrTzeEvmT"
      },
      "source": [
        "# Colab 실습 하기\r\n"
      ]
    },
    {
      "cell_type": "markdown",
      "metadata": {
        "id": "f93DYiLJE1Iz"
      },
      "source": [
        "## 1. 마크다운으로 내 깃허브 링크 삽입하기\r\n",
        "\r\n",
        "https://github.com/HaekyoungRho\r\n"
      ]
    },
    {
      "cell_type": "markdown",
      "metadata": {
        "id": "wEZnlUbIFVa-"
      },
      "source": [
        "## 2. 마크다운으로 이미지 삽입하기\r\n",
        "\r\n",
        "- 이미지는 인터넷에 있는 이미지 아무거나 또는 내 pc에 저장되어 있는 아무이미지를 삽입해주시면 됩니다. \r\n",
        "\r\n",
        "<img src=\"http://www.kiost.ac.kr/dext5editordata/2016/05/20160520_095427226_94856_r.jpg\"  width=\"700\" height=\"370\">"
      ]
    },
    {
      "cell_type": "markdown",
      "metadata": {
        "id": "rtnleslqFhT8"
      },
      "source": [
        "## 3. 마크다운으로 수업 배운 것 정리해보기\r\n",
        "- 전공수업, 교양 수업, 오늘 ot내용, 요즘 준비하는 자격증 내용 등등 기타 자기가 최근 배운 것 아무거나 최소 3줄이상 작성해주세요. (이때 단어강조하기, 문장 띄어쓰기, 인용구등 사용하기)\r\n",
        "\r\n",
        "(여기를 채워주세요!)\r\n",
        "<br>\r\n",
        "##안녕하세요\r\n",
        "저는 전공 수업으로 <strong>컴퓨터 구조</strong>를 배우고 있습니다.<br><br>\r\n",
        "> 오늘 오티에서는 깃 허브를 사용하는 방법에 대해 배웠습니다.\r\n",
        ">>짝꿍과 깃에서 서로 팔로우 하고 <em>DALC_Scala</em>라는 레포지터리를 만들었습니다.\r\n",
        "\r\n",
        "\r\n",
        "<marquee style='width: 30%; color: Orange;'><b>DALC!</b></marquee>"
      ]
    }
  ]
}